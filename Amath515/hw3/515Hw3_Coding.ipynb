{
 "cells": [
  {
   "cell_type": "markdown",
   "metadata": {},
   "source": [
    "# AMATH 515 Homework 3\n",
    "\n",
    "**Due Date: 03/03/2021 at 23:59 PM PDT**\n",
    "\n",
    "*Homework Instruction*: Please follow order of this notebook and fill in the codes where commented as `TODO`. You only need to complete one funciton in `proxes.py`. Nothing needs to be done in this Jupyter Notebook, it obkt visualizes how well your prox works. However, **please submit both** `proxes.py` **and** `515Hw3_Coding.ipynb` to Gradescope. You'll have **10 attempts** to pass the tests."
   ]
  },
  {
   "cell_type": "code",
   "execution_count": 1,
   "metadata": {},
   "outputs": [],
   "source": [
    "import numpy as np\n",
    "import matplotlib.pyplot as plt"
   ]
  },
  {
   "cell_type": "markdown",
   "metadata": {},
   "source": [
    "## Please complete the code in `proxes.py`"
   ]
  },
  {
   "cell_type": "code",
   "execution_count": 2,
   "metadata": {
    "scrolled": false
   },
   "outputs": [],
   "source": [
    "import sys\n",
    "sys.path.append('./')\n",
    "from proxes import *"
   ]
  },
  {
   "cell_type": "markdown",
   "metadata": {},
   "source": [
    "## Test cases"
   ]
  },
  {
   "cell_type": "code",
   "execution_count": 3,
   "metadata": {},
   "outputs": [],
   "source": [
    "np.random.seed(124)\n",
    "m = 5\n",
    "n = 2\n",
    "k = 1\n",
    "z = np.random.randn(m, n)\n",
    "x = np.zeros((m, n))"
   ]
  },
  {
   "cell_type": "code",
   "execution_count": 4,
   "metadata": {},
   "outputs": [],
   "source": [
    "for i in range(m):\n",
    "    x[i] = prox_csimplex(z[i], k)"
   ]
  },
  {
   "cell_type": "code",
   "execution_count": 5,
   "metadata": {},
   "outputs": [
    {
     "name": "stdout",
     "output_type": "stream",
     "text": [
      "[[0.87571657 0.12428343]\n",
      " [0.         1.        ]\n",
      " [0.14058588 0.85941412]\n",
      " [0.         1.        ]\n",
      " [1.         0.        ]]\n"
     ]
    }
   ],
   "source": [
    "#==GRADED==#\n",
    "print(x)"
   ]
  },
  {
   "cell_type": "markdown",
   "metadata": {},
   "source": [
    "If you did everything right then the projections of the points on the plot below should be sitting on the black interval that connects [0,1] and [1,0]"
   ]
  },
  {
   "cell_type": "code",
   "execution_count": 6,
   "metadata": {},
   "outputs": [
    {
     "data": {
      "text/plain": [
       "(-1.6232447306802724,\n",
       " 1.8058687966990605,\n",
       " -0.9018258603599083,\n",
       " 2.470293840568626)"
      ]
     },
     "execution_count": 6,
     "metadata": {},
     "output_type": "execute_result"
    },
    {
     "data": {
      "image/png": "[encoded data removed]",
      "text/plain": [
       "<Figure size 432x288 with 1 Axes>"
      ]
     },
     "metadata": {
      "needs_background": "light"
     },
     "output_type": "display_data"
    }
   ],
   "source": [
    "plt.clf()\n",
    "plt.arrow(-0.5,  0.0,  2.0,  0.0, head_width=0.1)\n",
    "plt.arrow( 0.0, -0.5,  0.0,  2.0, head_width=0.1)\n",
    "plt.plot([0.0, 1.0], [1.0, 0.0], '-k')\n",
    "for i in range(m):\n",
    "    plt.plot([z[i][0], x[i][0]], [z[i][1], x[i][1]], 'o--')\n",
    "plt.axis('equal')"
   ]
  },
  {
   "cell_type": "code",
   "execution_count": null,
   "metadata": {},
   "outputs": [],
   "source": []
  }
 ],
 "metadata": {
  "kernelspec": {
   "display_name": "Python 3",
   "language": "python",
   "name": "python3"
  },
  "language_info": {
   "codemirror_mode": {
    "name": "ipython",
    "version": 3
   },
   "file_extension": ".py",
   "mimetype": "text/x-python",
   "name": "python",
   "nbconvert_exporter": "python",
   "pygments_lexer": "ipython3",
   "version": "3.8.5"
  }
 },
 "nbformat": 4,
 "nbformat_minor": 2
}
